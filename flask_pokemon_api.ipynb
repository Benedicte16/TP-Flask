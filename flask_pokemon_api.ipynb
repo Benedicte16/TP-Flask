{
 "cells": [
  {
   "cell_type": "markdown",
   "id": "2eb985e9",
   "metadata": {},
   "source": [
    "# Introduction à Flask et Création d'une API Pokémon\n",
    "\n",
    "Flask est un micro-framework web écrit en Python. Il est léger, flexible et permet de créer des applications web rapidement.\n",
    "\n",
    "### Principes de Flask\n",
    "1. **Routing** : Définir les URL de l'application.\n",
    "2. **Templates** : Générer des pages dynamiques avec Jinja2.\n",
    "3. **Gestion des requêtes et réponses** : Interagir avec les clients via HTTP.\n",
    "4. **JSON API** : Construire des API RESTful facilement.\n",
    "5. **Debug Mode** : Permet le rechargement automatique du serveur.\n",
    "\n",
    "Dans ce notebook, nous allons créer une API Flask qui récupère des informations sur un Pokémon via [PokeAPI](https://pokeapi.co/)."
   ]
  },
  {
   "cell_type": "code",
   "execution_count": 4,
   "id": "56add397",
   "metadata": {},
   "outputs": [
    {
     "name": "stdout",
     "output_type": "stream",
     "text": [
      "Collecting flask\n",
      "  Downloading flask-3.1.0-py3-none-any.whl.metadata (2.7 kB)\n",
      "Requirement already satisfied: requests in c:\\users\\adogo\\appdata\\local\\packages\\pythonsoftwarefoundation.python.3.10_qbz5n2kfra8p0\\localcache\\local-packages\\python310\\site-packages (2.32.3)\n",
      "Collecting Werkzeug>=3.1 (from flask)\n",
      "  Using cached werkzeug-3.1.3-py3-none-any.whl.metadata (3.7 kB)\n",
      "Requirement already satisfied: Jinja2>=3.1.2 in c:\\users\\adogo\\appdata\\local\\packages\\pythonsoftwarefoundation.python.3.10_qbz5n2kfra8p0\\localcache\\local-packages\\python310\\site-packages (from flask) (3.1.4)\n",
      "Collecting itsdangerous>=2.2 (from flask)\n",
      "  Downloading itsdangerous-2.2.0-py3-none-any.whl.metadata (1.9 kB)\n",
      "Requirement already satisfied: click>=8.1.3 in c:\\users\\adogo\\appdata\\local\\packages\\pythonsoftwarefoundation.python.3.10_qbz5n2kfra8p0\\localcache\\local-packages\\python310\\site-packages (from flask) (8.1.7)\n",
      "Collecting blinker>=1.9 (from flask)\n",
      "  Downloading blinker-1.9.0-py3-none-any.whl.metadata (1.6 kB)\n",
      "Requirement already satisfied: charset-normalizer<4,>=2 in c:\\users\\adogo\\appdata\\local\\packages\\pythonsoftwarefoundation.python.3.10_qbz5n2kfra8p0\\localcache\\local-packages\\python310\\site-packages (from requests) (3.4.0)\n",
      "Requirement already satisfied: idna<4,>=2.5 in c:\\users\\adogo\\appdata\\local\\packages\\pythonsoftwarefoundation.python.3.10_qbz5n2kfra8p0\\localcache\\local-packages\\python310\\site-packages (from requests) (3.10)\n",
      "Requirement already satisfied: urllib3<3,>=1.21.1 in c:\\users\\adogo\\appdata\\local\\packages\\pythonsoftwarefoundation.python.3.10_qbz5n2kfra8p0\\localcache\\local-packages\\python310\\site-packages (from requests) (2.2.3)\n",
      "Requirement already satisfied: certifi>=2017.4.17 in c:\\users\\adogo\\appdata\\local\\packages\\pythonsoftwarefoundation.python.3.10_qbz5n2kfra8p0\\localcache\\local-packages\\python310\\site-packages (from requests) (2024.8.30)\n",
      "Requirement already satisfied: colorama in c:\\users\\adogo\\appdata\\local\\packages\\pythonsoftwarefoundation.python.3.10_qbz5n2kfra8p0\\localcache\\local-packages\\python310\\site-packages (from click>=8.1.3->flask) (0.4.6)\n",
      "Requirement already satisfied: MarkupSafe>=2.0 in c:\\users\\adogo\\appdata\\local\\packages\\pythonsoftwarefoundation.python.3.10_qbz5n2kfra8p0\\localcache\\local-packages\\python310\\site-packages (from Jinja2>=3.1.2->flask) (3.0.2)\n",
      "Downloading flask-3.1.0-py3-none-any.whl (102 kB)\n",
      "Downloading blinker-1.9.0-py3-none-any.whl (8.5 kB)\n",
      "Downloading itsdangerous-2.2.0-py3-none-any.whl (16 kB)\n",
      "Using cached werkzeug-3.1.3-py3-none-any.whl (224 kB)\n",
      "Installing collected packages: Werkzeug, itsdangerous, blinker, flask\n",
      "  Attempting uninstall: Werkzeug\n",
      "    Found existing installation: Werkzeug 3.0.4\n",
      "    Uninstalling Werkzeug-3.0.4:\n",
      "      Successfully uninstalled Werkzeug-3.0.4\n",
      "Successfully installed Werkzeug-3.1.3 blinker-1.9.0 flask-3.1.0 itsdangerous-2.2.0\n"
     ]
    },
    {
     "name": "stderr",
     "output_type": "stream",
     "text": [
      "ERROR: pip's dependency resolver does not currently take into account all the packages that are installed. This behaviour is the source of the following dependency conflicts.\n",
      "tensorflow-intel 2.18.0 requires numpy<2.1.0,>=1.26.0, but you have numpy 2.2.0 which is incompatible.\n",
      "\n",
      "[notice] A new release of pip is available: 25.0 -> 25.0.1\n",
      "[notice] To update, run: C:\\Users\\adogo\\AppData\\Local\\Microsoft\\WindowsApps\\PythonSoftwareFoundation.Python.3.10_qbz5n2kfra8p0\\python.exe -m pip install --upgrade pip\n"
     ]
    }
   ],
   "source": [
    "# Installer Flask et Requests si nécessaire\n",
    "!pip install flask requests"
   ]
  },
  {
   "cell_type": "code",
   "execution_count": 5,
   "id": "25cfd207",
   "metadata": {},
   "outputs": [
    {
     "name": "stdout",
     "output_type": "stream",
     "text": [
      " * Serving Flask app '__main__'\n",
      " * Debug mode: on\n"
     ]
    },
    {
     "name": "stderr",
     "output_type": "stream",
     "text": [
      "WARNING: This is a development server. Do not use it in a production deployment. Use a production WSGI server instead.\n",
      " * Running on http://127.0.0.1:5000\n",
      "Press CTRL+C to quit\n",
      " * Restarting with stat\n"
     ]
    },
    {
     "ename": "SystemExit",
     "evalue": "1",
     "output_type": "error",
     "traceback": [
      "An exception has occurred, use %tb to see the full traceback.\n",
      "\u001b[1;31mSystemExit\u001b[0m\u001b[1;31m:\u001b[0m 1\n"
     ]
    },
    {
     "name": "stderr",
     "output_type": "stream",
     "text": [
      "C:\\Users\\adogo\\AppData\\Local\\Packages\\PythonSoftwareFoundation.Python.3.10_qbz5n2kfra8p0\\LocalCache\\local-packages\\Python310\\site-packages\\IPython\\core\\interactiveshell.py:3585: UserWarning: To exit: use 'exit', 'quit', or Ctrl-D.\n",
      "  warn(\"To exit: use 'exit', 'quit', or Ctrl-D.\", stacklevel=1)\n"
     ]
    }
   ],
   "source": [
    "from flask import Flask, jsonify\n",
    "import requests\n",
    "\n",
    "app = Flask(__name__)\n",
    "\n",
    "@app.route('/api/pokemon/<name>')\n",
    "def get_pokemon(name):\n",
    "    url = f\"https://pokeapi.co/api/v2/pokemon/{name.lower()}\"\n",
    "    response = requests.get(url)\n",
    "    \n",
    "    if response.status_code == 200:\n",
    "        data = response.json()\n",
    "        return jsonify({\n",
    "            \"name\": data[\"name\"],\n",
    "            \"height\": data[\"height\"],\n",
    "            \"weight\": data[\"weight\"],\n",
    "            \"types\": [t[\"type\"][\"name\"] for t in data[\"types\"]],\n",
    "            \"image\": data[\"sprites\"][\"front_default\"]\n",
    "        })\n",
    "    else:\n",
    "        return jsonify({\"error\": \"Pokémon non trouvé\"}), 404\n",
    "\n",
    "if __name__ == '__main__':\n",
    "    app.run(debug=True)"
   ]
  },
  {
   "cell_type": "markdown",
   "id": "9bc18d5e",
   "metadata": {},
   "source": []
  },
  {
   "cell_type": "code",
   "execution_count": 6,
   "id": "f602e0a5",
   "metadata": {},
   "outputs": [
    {
     "ename": "NameError",
     "evalue": "name 'python' is not defined",
     "output_type": "error",
     "traceback": [
      "\u001b[1;31m---------------------------------------------------------------------------\u001b[0m",
      "\u001b[1;31mNameError\u001b[0m                                 Traceback (most recent call last)",
      "Cell \u001b[1;32mIn[6], line 1\u001b[0m\n\u001b[1;32m----> 1\u001b[0m \u001b[43mpython\u001b[49m \u001b[38;5;241m-\u001b[39m\u001b[38;5;241m-\u001b[39mversion\n",
      "\u001b[1;31mNameError\u001b[0m: name 'python' is not defined"
     ]
    }
   ],
   "source": [
    "python --version\n"
   ]
  },
  {
   "cell_type": "markdown",
   "id": "f54b20e6",
   "metadata": {},
   "source": [
    "## Explication du Code\n",
    "- Nous utilisons Flask pour créer une API accessible via `http://127.0.0.1:5000/api/pokemon/<nom>`.\n",
    "- L'API interroge **PokeAPI** pour obtenir des informations sur le Pokémon demandé.\n",
    "- Si le Pokémon existe, nous retournons ses caractéristiques en **JSON**.\n",
    "- Sinon, nous renvoyons une erreur 404.\n",
    "\n",
    "## Comment utiliser l'API ?\n",
    "1. Exécute le script Flask dans un terminal : `python app.py`.\n",
    "2. Dans un navigateur ou un outil comme Postman, teste l'URL :  \n",
    "   ```\n",
    "   http://127.0.0.1:5000/api/pokemon/pikachu\n",
    "   ```\n",
    "3. Une réponse JSON avec les détails du Pokémon s'affichera."
   ]
  },
  {
   "cell_type": "markdown",
   "id": "568535db",
   "metadata": {},
   "source": []
  }
 ],
 "metadata": {
  "kernelspec": {
   "display_name": "Python 3",
   "language": "python",
   "name": "python3"
  },
  "language_info": {
   "codemirror_mode": {
    "name": "ipython",
    "version": 3
   },
   "file_extension": ".py",
   "mimetype": "text/x-python",
   "name": "python",
   "nbconvert_exporter": "python",
   "pygments_lexer": "ipython3",
   "version": "3.10.11"
  }
 },
 "nbformat": 4,
 "nbformat_minor": 5
}
